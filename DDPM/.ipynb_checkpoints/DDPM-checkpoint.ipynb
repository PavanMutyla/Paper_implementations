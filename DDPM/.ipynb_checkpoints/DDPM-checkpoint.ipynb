{
 "cells": [
  {
   "cell_type": "code",
   "execution_count": 1,
   "id": "0f7ec925-815f-4e18-9529-78425fff84c3",
   "metadata": {},
   "outputs": [],
   "source": [
    "import torch \n",
    "import torch.nn as nn"
   ]
  },
  {
   "cell_type": "code",
   "execution_count": 2,
   "id": "17169b6d-7054-4e20-8c73-fe3ea04adf68",
   "metadata": {},
   "outputs": [],
   "source": [
    "\n",
    "import torch \n",
    "import torch.nn as nn\n",
    "class LinearScehduler:\n",
    "    def __init__(self, num_timestamps, beta_start, beta_end):\n",
    "        self.num_timestamps = num_timestamps\n",
    "        self.beta_start = beta_start\n",
    "        self.beta_end = beta_end\n",
    "\n",
    "        self.betas = torch.linspace(beta_start, beta_end, num_timestamps) # To linearly increase BETA from start to end, we will have BETA from 0 to T\n",
    "        self.alphas = 1. - self.betas \n",
    "        self.alpha_cumilative_product = torch.cumprod(self.alphas, dim = 0)\n",
    "        self.alpha_sqroot_cumilative_prod = torch.sqrt(self.alpha_cumilative_product)\n",
    "        self.one_minus_alpha_squareroot = torch.sqrt( 1. - self.alpha_cumilative_product)\n",
    "\n",
    "\n",
    "    def add_noise(self, original_image, noise,t ):\n",
    "        \"\"\"\n",
    "        add noise to the image in the forward process\n",
    "        the images and noise will be of shape BxCxHxW and a 1D tensor for time stamp 't' of size 'B'\n",
    "        \"\"\"\n",
    "        \"\"\"\n",
    "        Forward method for diffusion\n",
    "        :param original: Image on which noise is to be applied\n",
    "        :param noise: Random Noise Tensor (from normal dist)\n",
    "        :param t: timestep of the forward process of shape -> (B,)\n",
    "        :return:\n",
    "        \"\"\"\n",
    "        shape = original_image.shape \n",
    "        batch_size = shape[0]\n",
    "\n",
    "        alpha_sqrt_cum_prod = self.alpha_sqroot_cumilative_prod[t].reshape(batch_size)\n",
    "        one_minus_alphs_sqrt = self.one_minus_alpha_squareroot[t].reshape(batch_size)\n",
    "\n",
    "        for _ in range(len(shape)-1):\n",
    "            \"\"\"Reshape aplha sqrt and alpha-1 sqrt to Bx1x1x1\"\"\"\n",
    "            alpha_sqrt_cum_prod = alpha_sqrt_cum_prod.unsqueeze(-1)\n",
    "            one_minus_alphs_sqrt = one_minus_alphs_sqrt.unsqueeze(-1)\n",
    "        return alpha_sqrt_cum_prod*original_image + one_minus_alphs_sqrt*noise\n",
    "\n",
    "    def reverse_process(self, xt, noise_predicted, t):\n",
    "        \"\"\"\n",
    "        Forward method for diffusion\n",
    "        :param original: Image on which noise is to be applied\n",
    "        :param noise: Random Noise Tensor (from normal dist)\n",
    "        :param t: timestep of the forward process of shape -> (B,)\n",
    "        :return: tuple of (mean, image), it returns the predicted mean of the distribution and the predicted denoised image\n",
    "        \"\"\"\n",
    "        x0 = (xt - (self.one_minus_alpha_squareroot[t]*noise_predicted)) / self.alpha_sqroot_cumilative_prod[t]\n",
    "\n",
    "        x0 = torch.clamp(x0, -1., 1.)\n",
    "\n",
    "        mean = xt - ((self.betas[t]*noise_predicted) / self.alpha_sqroot_cumilative_prod[t])\n",
    "        mean = mean / torch.sqrt(self.alphas[t])\n",
    "\n",
    "        if t==0:\n",
    "            return mean, x0\n",
    "        else:\n",
    "            variance = (1. - self.alphas[t]) * (1.- self.alpha_cumilative_product[t])\n",
    "            variance = variance / (1. - self.alphas[t])\n",
    "            sigma = variance ** 0.5 \n",
    "            z = torch.randn(xt.shape).to(xt.device)\n",
    "            #return the sample from the distribution using Reparameterization trick\n",
    "            return mean + sigma*z, x0\n",
    "\n",
    "    \n",
    "        \n",
    "        "
   ]
  },
  {
   "cell_type": "code",
   "execution_count": 3,
   "id": "4b76637b-f578-4a5c-9fd0-f5c0ce7ca9b5",
   "metadata": {},
   "outputs": [],
   "source": [
    "\n",
    "import torch\n",
    "import torch.nn as nn\n",
    "\n",
    "class Swish(nn.Module):\n",
    "    def forward(self, x):\n",
    "        return x * torch.sigmoid(x)\n",
    "\n",
    "class TimeEmbed(nn.Module):\n",
    "\n",
    "    \"\"\"Takes time stam't' and the required embeddings dimnestion.\n",
    "    Then 't' is passed to Embedding followed by Linear layer, acitvation function and a final Linear layer:\n",
    "    This is done to project the timestamp values as vectors.\n",
    "    return: BxD embedding representation of B time steps.\n",
    "    \"\"\"    \n",
    "    \n",
    "    def __init__(self, t_embed_dim):\n",
    "        super().__init__()\n",
    "        self.t_embed_dim = t_embed_dim\n",
    "        self.fc = nn.Linear(t_embed_dim, t_embed_dim)\n",
    "        self.swish = Swish()\n",
    "    \n",
    "    def forward(self, t):\n",
    "\n",
    "        # Factor: 10000^(2i/d_model)\n",
    "        factor = 10000 ** (torch.arange(\n",
    "            start=0, end=self.t_embed_dim // 2, dtype=torch.float32, device=t.device\n",
    "        ) / (self.t_embed_dim // 2))\n",
    "\n",
    "        # Compute embeddings\n",
    "        t_emb = t[:, None] / factor  # Shape: (B, t_embed_dim // 2)\n",
    "        t_emb = torch.cat([torch.sin(t_emb), torch.cos(t_emb)], dim=-1)  # Shape: (B, t_embed_dim)\n",
    "\n",
    "        # Pass through fully connected layer and Swish activation\n",
    "        t_emb = self.swish(self.fc(t_emb))  # Final projection with non-linearity\n",
    "        return t_emb\n"
   ]
  },
  {
   "cell_type": "code",
   "execution_count": 4,
   "id": "75454cfb-5e22-4515-8df1-369eed273af2",
   "metadata": {},
   "outputs": [],
   "source": [
    "\n",
    "import torch\n",
    "import torch.nn as nn\n",
    "\n",
    "class DownBlock(nn.Module):\n",
    "    \"\"\"\n",
    "    A downsampling block with residual connections, attention, and time embeddings.\n",
    "    \"\"\"\n",
    "    def __init__(self, n_groups, in_channels, out_channels, num_heads):\n",
    "        super().__init__()\n",
    "        self.Block1 = nn.Sequential(\n",
    "            nn.GroupNorm(n_groups, in_channels),\n",
    "            Swish(),\n",
    "            nn.Conv2d(in_channels, out_channels, kernel_size=(3, 3), padding=(1, 1)),\n",
    "        )\n",
    "        self.Block2 = nn.Sequential(\n",
    "            nn.GroupNorm(n_groups, out_channels),\n",
    "            Swish(),\n",
    "            nn.Conv2d(out_channels, out_channels, kernel_size=(3, 3), padding=(1, 1)),\n",
    "        )\n",
    "        self.attention_norm = nn.GroupNorm(n_groups, out_channels)\n",
    "        self.attention = nn.MultiheadAttention(out_channels, num_heads, batch_first=True)\n",
    "\n",
    "        # Linear projection to match input size for skip connection\n",
    "        self.linear_layer_input = nn.Conv2d(in_channels, out_channels, kernel_size=(1, 1))\n",
    "\n",
    "        # Linear projection for time embedding to match out_channels\n",
    "        self.time_proj = nn.Linear(out_channels, out_channels)\n",
    "\n",
    "        # Downsampling layer\n",
    "        self.down_sampling = nn.Conv2d(out_channels, out_channels, kernel_size=4, padding=1, stride=2)\n",
    "\n",
    "    def forward(self, x, t_emb):\n",
    "        # Residual block\n",
    "        block1 = self.Block1(x)\n",
    "        \n",
    "        # Project time embedding and add\n",
    "        t_proj = self.time_proj(t_emb)  # Shape: (B, out_channels)\n",
    "        t_proj = t_proj[:, :, None, None]  # Add spatial dimensions to match the expected shape by Block1\n",
    "        block_time_sum = block1 + t_proj\n",
    "\n",
    "        block2 = self.Block2(block_time_sum)\n",
    "        skip_connection = self.linear_layer_input(x)\n",
    "        out_residual = block2 + skip_connection\n",
    "\n",
    "        # Attention block\n",
    "        batch, channel, h, w = out_residual.shape\n",
    "        attn_input = out_residual.reshape(batch, channel, h * w)\n",
    "        attn_input = self.attention_norm(attn_input)\n",
    "        attn_input = attn_input.transpose(1, 2)\n",
    "        out_attn, _ = self.attention(attn_input, attn_input, attn_input)\n",
    "        out_attn = out_attn.transpose(1, 2).reshape(batch, channel, h, w)\n",
    "\n",
    "        # Final output\n",
    "        out_final = out_attn + out_residual\n",
    "        out_final = self.down_sampling(out_final)\n",
    "\n",
    "        return out_final\n"
   ]
  },
  {
   "cell_type": "code",
   "execution_count": 5,
   "id": "2934a6c2-eed0-4f8d-bc67-a5e7362fe400",
   "metadata": {},
   "outputs": [
    {
     "name": "stdout",
     "output_type": "stream",
     "text": [
      "torch.Size([8, 256, 32, 32])\n"
     ]
    }
   ],
   "source": [
    "# Example Usage\n",
    "batch_size = 8\n",
    "height, width = 64, 64\n",
    "in_channels = 64\n",
    "out_channels = 256\n",
    "time_embed_dim = 256  # Match this to `out_channels`\n",
    "n_groups = 32\n",
    "num_heads = 8\n",
    "\n",
    "# Inputs\n",
    "x = torch.randn(batch_size, in_channels, height, width)\n",
    "t = torch.randn(batch_size)  # Time steps\n",
    "\n",
    "# Time embedding generation\n",
    "time_embedder = TimeEmbed(time_embed_dim)\n",
    "t_emb = time_embedder(t)  # Shape: (B, time_embed_dim)\n",
    "\n",
    "# DownBlock\n",
    "down = DownBlock(n_groups, in_channels, out_channels, num_heads)\n",
    "output = down(x, t_emb)\n",
    "print(output.shape)  # Should print: (8, 256, 32, 32)\n"
   ]
  },
  {
   "cell_type": "code",
   "execution_count": 6,
   "id": "4392a7e0-7564-419a-be66-ef7a0dafebda",
   "metadata": {},
   "outputs": [],
   "source": [
    "from torchinfo import summary"
   ]
  },
  {
   "cell_type": "code",
   "execution_count": 24,
   "id": "5e94b125-3e30-4707-8515-e45530f854ee",
   "metadata": {},
   "outputs": [],
   "source": [
    "middle = MiddleBlock(out_channels, out_channels, n_groups, num_heads)\n"
   ]
  },
  {
   "cell_type": "code",
   "execution_count": 30,
   "id": "47842a46-3434-455c-b802-12b097f57dec",
   "metadata": {
    "scrolled": true
   },
   "outputs": [],
   "source": [
    "middle = middle(output, t_emb)"
   ]
  },
  {
   "cell_type": "code",
   "execution_count": 7,
   "id": "c9bffeba-25af-497d-8a41-78a692a1f7a8",
   "metadata": {},
   "outputs": [
    {
     "data": {
      "text/plain": [
       "==========================================================================================\n",
       "Layer (type:depth-idx)                   Output Shape              Param #\n",
       "==========================================================================================\n",
       "DownBlock                                [8, 256, 32, 32]          --\n",
       "├─Sequential: 1-1                        [8, 256, 64, 64]          --\n",
       "│    └─GroupNorm: 2-1                    [8, 64, 64, 64]           128\n",
       "│    └─Swish: 2-2                        [8, 64, 64, 64]           --\n",
       "│    └─Conv2d: 2-3                       [8, 256, 64, 64]          147,712\n",
       "├─Linear: 1-2                            [8, 256]                  65,792\n",
       "├─Sequential: 1-3                        [8, 256, 64, 64]          --\n",
       "│    └─GroupNorm: 2-4                    [8, 256, 64, 64]          512\n",
       "│    └─Swish: 2-5                        [8, 256, 64, 64]          --\n",
       "│    └─Conv2d: 2-6                       [8, 256, 64, 64]          590,080\n",
       "├─Conv2d: 1-4                            [8, 256, 64, 64]          16,640\n",
       "├─GroupNorm: 1-5                         [8, 256, 4096]            512\n",
       "├─MultiheadAttention: 1-6                [8, 4096, 256]            263,168\n",
       "├─Conv2d: 1-7                            [8, 256, 32, 32]          1,048,832\n",
       "==========================================================================================\n",
       "Total params: 2,133,376\n",
       "Trainable params: 2,133,376\n",
       "Non-trainable params: 0\n",
       "Total mult-adds (Units.GIGABYTES): 33.31\n",
       "==========================================================================================\n",
       "Input size (MB): 8.40\n",
       "Forward/backward pass size (MB): 369.12\n",
       "Params size (MB): 7.48\n",
       "Estimated Total Size (MB): 384.99\n",
       "=========================================================================================="
      ]
     },
     "execution_count": 7,
     "metadata": {},
     "output_type": "execute_result"
    }
   ],
   "source": [
    "summary(down, input_data=(x, t_emb))"
   ]
  },
  {
   "cell_type": "code",
   "execution_count": 27,
   "id": "43323997-1c19-43a0-993c-c72955e4551e",
   "metadata": {},
   "outputs": [],
   "source": [
    "\n",
    "import torch \n",
    "import torch.nn as nn\n",
    "class MiddleBlock(nn.Module):\n",
    "    def __init__(self, in_channels, out_channels, n_groups, num_heads):\n",
    "        super().__init__()\n",
    "        # First Residual Block\n",
    "        self.Block1 = nn.Sequential(\n",
    "            nn.GroupNorm(n_groups, in_channels),\n",
    "            Swish(),\n",
    "            nn.Conv2d(in_channels, out_channels, kernel_size=3, padding=1),\n",
    "        )\n",
    "        self.Block2 = nn.Sequential(\n",
    "            nn.GroupNorm(n_groups, out_channels),\n",
    "            Swish(),\n",
    "            nn.Conv2d(out_channels, out_channels, kernel_size=3, padding=1),\n",
    "        )\n",
    "        \n",
    "        # Attention Block\n",
    "        self.attention_norm = nn.GroupNorm(n_groups, out_channels)\n",
    "        self.attention = nn.MultiheadAttention(out_channels, num_heads, batch_first=True)\n",
    "\n",
    "        # Input Projection and Time Embedding Projection\n",
    "        self.input_projection = nn.Conv2d(in_channels, out_channels, kernel_size=1)\n",
    "        self.time_projection = nn.Linear(out_channels, out_channels)\n",
    "\n",
    "    def forward(self, x, t_emb):\n",
    "        # First Residual Block\n",
    "        res1_block1 = self.Block1(x)\n",
    "        t_proj = self.time_projection(t_emb).view(t_emb.size(0), -1, 1, 1)  # Project time embedding\n",
    "        res1_block2 = self.Block2(res1_block1 + t_proj)\n",
    "        skip_connection1 = self.input_projection(x)\n",
    "        out_residual = res1_block2 + skip_connection1\n",
    "    \n",
    "        # Attention Block\n",
    "        batch, channel, h, w = out_residual.shape\n",
    "        attn_input = out_residual.view(batch, channel, h * w).permute(0, 2, 1)  # Shape: (B, H*W, C)\n",
    "        normalized_attn_input = attn_input.permute(0, 2, 1).view(batch, channel, h, w)  # Shape: (B, C, H, W)\n",
    "        normalized_attn_input = self.attention_norm(normalized_attn_input)  # Apply GroupNorm\n",
    "        normalized_attn_input = normalized_attn_input.view(batch, channel, h * w).permute(0, 2, 1)  # Shape: (B, H*W, C)\n",
    "        out_attn, _ = self.attention(normalized_attn_input, normalized_attn_input, normalized_attn_input)\n",
    "        out_attn = out_attn.permute(0, 2, 1).view(batch, channel, h, w)  # Reshape back to [B, C, H, W]\n",
    "    \n",
    "        # Second Residual Block\n",
    "        res2_block1 = self.Block1(out_attn)\n",
    "        t_proj2 = self.time_projection(t_emb).view(t_emb.size(0), -1, 1, 1)\n",
    "        res2_block2 = self.Block2(res2_block1 + t_proj2)\n",
    "        skip_connection2 = self.input_projection(x)\n",
    "        out_final = res2_block2 + skip_connection2\n",
    "        return out_final\n",
    "\n"
   ]
  },
  {
   "cell_type": "code",
   "execution_count": 106,
   "id": "95bde8d7-54a1-4435-8c16-a727539ef96a",
   "metadata": {},
   "outputs": [
    {
     "name": "stdout",
     "output_type": "stream",
     "text": [
      "Writing Up_Sample.py\n"
     ]
    }
   ],
   "source": [
    "%%writefile 'Up_Sample.py'\n",
    "import torch \n",
    "import torch.nn as nn\n",
    "from Linear_scheduler import LinearScehduler\n",
    "from Time_Embed import TimeEmbed, Swish\n",
    "\n",
    "class UpBlock(nn.Module):\n",
    "    def __init__(self, n_groups, in_channels, out_channels, num_heads):\n",
    "        super().__init__()\n",
    "        self.Block1 = nn.Sequential(\n",
    "            nn.GroupNorm(n_groups, in_channels),\n",
    "            Swish(),\n",
    "            nn.Conv2d(in_channels, out_channels, kernel_size=(3, 3), padding=(1, 1)),\n",
    "        )\n",
    "        self.Block2 = nn.Sequential(\n",
    "            nn.GroupNorm(n_groups, out_channels),\n",
    "            Swish(),\n",
    "            nn.Conv2d(out_channels, out_channels, kernel_size=(3, 3), padding=(1, 1)),\n",
    "        )\n",
    "        self.attention_norm = nn.LayerNorm(out_channels)\n",
    "        self.attention = nn.MultiheadAttention(out_channels, num_heads, batch_first=True)\n",
    "\n",
    "        # Linear projection to match input size for skip connection\n",
    "        self.linear_layer_input = nn.Conv2d(in_channels + out_channels, out_channels, kernel_size=(1, 1))\n",
    "\n",
    "        # Linear projection for time embedding to match out_channels\n",
    "        self.time_proj = nn.Linear(out_channels, out_channels)\n",
    "\n",
    "        # Upsampling layer\n",
    "        self.up_sample = nn.ConvTranspose2d(in_channels//2, out_channels//2, kernel_size = 4, padding = 1, stride = 2)\n",
    "\n",
    "    def forward(self, x, down_out, t):\n",
    "        x = self.up_sample(x)\n",
    "        print(x.shape)\n",
    "        # Concatenate skip connection\n",
    "        x = torch.concat([x, down_out], dim=1)\n",
    "\n",
    "        # Residual block\n",
    "        block1 = self.Block1(x)\n",
    "\n",
    "        # Project time embedding and add\n",
    "        t_proj = self.time_proj(t)\n",
    "        t_proj = t_proj[:, :, None, None]  # Broadcast over spatial dimensions\n",
    "        block_time_sum = block1 + t_proj\n",
    "\n",
    "        block2 = self.Block2(block_time_sum)\n",
    "        skip_connection = self.linear_layer_input(x)\n",
    "        out_residual = block2 + skip_connection\n",
    "\n",
    "        # Attention block\n",
    "        batch, channel, h, w = out_residual.shape\n",
    "        attn_input = out_residual.reshape(batch, h * w, channel)  # (B, H*W, C)\n",
    "        out_attn, _ = self.attention(attn_input, attn_input, attn_input)\n",
    "        out_attn = out_attn.reshape(batch, channel, h, w)\n",
    "\n",
    "        # Final output\n",
    "        out_final = out_attn + out_residual\n",
    "        return out_final\n"
   ]
  },
  {
   "cell_type": "code",
   "execution_count": 35,
   "id": "6fa185ba-55c8-410a-b946-b74974fe9df7",
   "metadata": {},
   "outputs": [
    {
     "data": {
      "text/plain": [
       "torch.Size([8, 256, 32, 32])"
      ]
     },
     "execution_count": 35,
     "metadata": {},
     "output_type": "execute_result"
    }
   ],
   "source": [
    "middle.shape"
   ]
  },
  {
   "cell_type": "code",
   "execution_count": 36,
   "id": "ee46a107-f425-47d3-9b06-99b43bde0bf2",
   "metadata": {},
   "outputs": [
    {
     "data": {
      "text/plain": [
       "torch.Size([8, 256, 32, 32])"
      ]
     },
     "execution_count": 36,
     "metadata": {},
     "output_type": "execute_result"
    }
   ],
   "source": [
    "output.shape"
   ]
  },
  {
   "cell_type": "code",
   "execution_count": 90,
   "id": "2be8e879-3d10-4496-a368-1b5d5b57ed3b",
   "metadata": {},
   "outputs": [
    {
     "data": {
      "text/plain": [
       "torch.Size([8, 256])"
      ]
     },
     "execution_count": 90,
     "metadata": {},
     "output_type": "execute_result"
    }
   ],
   "source": [
    "t_emb.shape"
   ]
  },
  {
   "cell_type": "code",
   "execution_count": null,
   "id": "3a92c53c-c034-4551-8a2d-f97728964942",
   "metadata": {},
   "outputs": [],
   "source": []
  }
 ],
 "metadata": {
  "kernelspec": {
   "display_name": "Python 3 (ipykernel)",
   "language": "python",
   "name": "python3"
  },
  "language_info": {
   "codemirror_mode": {
    "name": "ipython",
    "version": 3
   },
   "file_extension": ".py",
   "mimetype": "text/x-python",
   "name": "python",
   "nbconvert_exporter": "python",
   "pygments_lexer": "ipython3",
   "version": "3.12.3"
  }
 },
 "nbformat": 4,
 "nbformat_minor": 5
}
